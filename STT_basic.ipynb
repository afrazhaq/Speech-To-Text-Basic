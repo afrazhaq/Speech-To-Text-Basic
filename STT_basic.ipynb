{
 "cells": [
  {
   "cell_type": "markdown",
   "id": "4fc376c2-f979-4ba1-aacd-e3e4c8e85a27",
   "metadata": {},
   "source": [
    "# Speech-To-Text STT 1.0"
   ]
  },
  {
   "cell_type": "code",
   "execution_count": null,
   "id": "5cfcdb5b-ba7f-4ca5-8cc7-126e0b494c8c",
   "metadata": {},
   "outputs": [],
   "source": [
    "%pip install SpeechRecognition\n",
    "%pip install PyAudio\n",
    "%pip install setuptools #setuptools is installed because it includes disutils package which was removed in Python 3.12.5"
   ]
  },
  {
   "cell_type": "code",
   "execution_count": null,
   "id": "375f3e81-6186-48b2-93dc-ea3ccd7eba22",
   "metadata": {},
   "outputs": [],
   "source": [
    "import speech_recognition as sr\n",
    "import pyaudio\n",
    "import setuptools.dist \n",
    "import speech_recognition as sr\n",
    "\n",
    "duration = float(input(\"Please enter the recording duration (in seconds): \"))\n",
    "\n",
    "initiate_recording = sr.Recognizer()\n",
    "print(\"Please begin speaking\")\n",
    "\n",
    "with sr.Microphone() as source:\n",
    "    # Adjust for ambient noise to improve recognition\n",
    "    initiate_recording.adjust_for_ambient_noise(source, duration=1)\n",
    "    print(f\"\\nListening for {duration} seconds\")\n",
    "    audio_data = initiate_recording.record(source, duration=duration)\n",
    "\n",
    "try:\n",
    "    print(\"\\nRecognizing..\")\n",
    "    text = initiate_recording.recognize_google(audio_data)\n",
    "    print(f\"\\nYou said: {text}\")\n",
    "except sr.UnknownValueError:\n",
    "    print(\"\\nSorry, I could not understand the audio.\")\n",
    "except sr.RequestError as e:\n",
    "    print(f\"\\nCould not request results from Google Speech Recognition service; {e}\")"
   ]
  }
 ],
 "metadata": {
  "kernelspec": {
   "display_name": "Python 3 (ipykernel)",
   "language": "python",
   "name": "python3"
  },
  "language_info": {
   "codemirror_mode": {
    "name": "ipython",
    "version": 3
   },
   "file_extension": ".py",
   "mimetype": "text/x-python",
   "name": "python",
   "nbconvert_exporter": "python",
   "pygments_lexer": "ipython3",
   "version": "3.12.5"
  }
 },
 "nbformat": 4,
 "nbformat_minor": 5
}
